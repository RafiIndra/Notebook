{
  "metadata": {
    "language_info": {
      "codemirror_mode": {
        "name": "python",
        "version": 3
      },
      "file_extension": ".py",
      "mimetype": "text/x-python",
      "name": "python",
      "nbconvert_exporter": "python",
      "pygments_lexer": "ipython3",
      "version": "3.8"
    },
    "kernelspec": {
      "name": "python",
      "display_name": "Python (Pyodide)",
      "language": "python"
    }
  },
  "nbformat_minor": 4,
  "nbformat": 4,
  "cells": [
    {
      "cell_type": "markdown",
      "source": "<h1> My Jupyter Notebook on IBM Watson Studio </h1>",
      "metadata": {}
    },
    {
      "cell_type": "markdown",
      "source": "<b> Rafi Indra Fattah </b> <br>\nData Scientist",
      "metadata": {}
    },
    {
      "cell_type": "markdown",
      "source": "<i> I'm interested in data science because it pays well and it seems fun. </i>",
      "metadata": {}
    },
    {
      "cell_type": "markdown",
      "source": "<h3> well, the code adds 1 to 3, resulting in 4 as the output. </h3>",
      "metadata": {}
    },
    {
      "cell_type": "code",
      "source": "1 + 3",
      "metadata": {
        "trusted": true
      },
      "execution_count": 1,
      "outputs": [
        {
          "execution_count": 1,
          "output_type": "execute_result",
          "data": {
            "text/plain": "4"
          },
          "metadata": {}
        }
      ]
    },
    {
      "cell_type": "markdown",
      "source": "<hr>\n<ul>\n    <li>anjai</li>\n    <li>bohay</li>\n</ul><hr>\n<ol>\n    <li>anjai</li>\n    <li>bohay</li>\n</ol><hr>\n<table style=\"width:20%\">\n<tr>\n    <th>header1</th>\n    <th>header2</th>\n</tr>\n<tr>\n    <td>anjai</td>\n    <td>bohay</td>\n</tr>",
      "metadata": {}
    }
  ]
}